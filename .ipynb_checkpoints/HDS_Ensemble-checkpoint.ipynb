{
 "cells": [
  {
   "cell_type": "markdown",
   "id": "bd16a80c",
   "metadata": {},
   "source": [
    "## Ensemble Machine Learning"
   ]
  },
  {
   "cell_type": "markdown",
   "id": "3826e293",
   "metadata": {},
   "source": [
    "__Outline__\n",
    "\n",
    "* Bagging\n",
    "* Staking\n",
    "* Boosting\n",
    "  * XGBoost\n",
    " \n",
    "Ensemble learning is a generic meta-machine learning technique that tries to improve predictive performance by mixing predictions from many models. In contrast to traditional learning approaches, which attempt to generate a single learner from training data, ensemble methods attempt to construct and integrate a number of learners. Ensemble learning can alternatively be referred to as committee-based learning or learning using numerous classifier systems. An ensemble is made up of a group of learners known as foundation learners. Most ensemble methods employ a single base learning algorithm to generate homogeneous base learners, i.e., learners of the same type, resulting in homogeneous ensembles; however, some methods employ multiple learning algorithms to generate heterogeneous learners, i.e., learners of different types, resulting in heterogeneous ensembles.\n",
    "\n",
    "An ensemble's generalization capacity is frequently substantially stronger than that of basic learners. Actually, ensemble techniques are interesting primarily because they may elevate weak learners who are just marginally better than random guesses to strong learners who can make highly accurate predictions. As a result, base learners are often known as weak learners. Ensemble techniques aim to increase generalizability or resilience over a single estimator by combining the predictions of numerous base estimators developed with a specific learning procedure.\n",
    "\n",
    "![](fig/learners.png)\n",
    "\n"
   ]
  },
  {
   "cell_type": "code",
   "execution_count": 1,
   "id": "37a6ae9a",
   "metadata": {},
   "outputs": [],
   "source": [
    "import warnings\n",
    "warnings.simplefilter(action='ignore', category=FutureWarning)\n",
    "import pandas as pd\n",
    "import numpy as np\n",
    "from sklearn.model_selection import KFold\n",
    "from sklearn.model_selection import cross_val_score\n",
    "from sklearn.ensemble import BaggingClassifier\n",
    "from sklearn.tree import DecisionTreeClassifier\n",
    "from sklearn.ensemble import RandomForestClassifier # RF classifier\n",
    "from sklearn.ensemble import ExtraTreesClassifier # ETC classifier\n",
    "from sklearn.svm import SVC\n",
    "from sklearn.ensemble import VotingClassifier\n",
    "from sklearn.ensemble import ExtraTreesClassifier # ETC classifier\n",
    "from xgboost import XGBClassifier\n",
    "import matplotlib.pyplot as plt\n",
    "from sklearn.model_selection import train_test_split\n",
    "from sklearn.preprocessing import StandardScaler\n",
    "from sklearn.metrics import accuracy_score\n",
    "from sklearn.ensemble import RandomForestClassifier\n",
    "from sklearn.svm import SVC\n",
    "from sklearn.neighbors import KNeighborsClassifier\n",
    "from sklearn.model_selection import cross_val_score, RepeatedStratifiedKFold\n",
    "from collections import defaultdict\n",
    "import plotly.graph_objects as go\n",
    "import datapane as dp\n",
    "from IPython.core.display import HTML\n",
    "import seaborn as sns\n",
    "from xgboost import plot_importance\n",
    "import matplotlib\n",
    "matplotlib.rcParams['figure.figsize'] = (10.0, 8)\n",
    "sns.set()\n"
   ]
  },
  {
   "cell_type": "code",
   "execution_count": 2,
   "id": "b799273c",
   "metadata": {},
   "outputs": [
    {
     "data": {
      "text/html": [
       "<style>/* Font Definitions */\n",
       " @font-face{\n",
       "  font-family:\"Cambria Math\";\n",
       "  panose-1:2 4 5 3 5 4 6 3 2 4;\n",
       " }\n",
       "@font-face{\n",
       "  font-family:Calibri;\n",
       "  panose-1:2 15 5 2 2 2 4 3 2 4;\n",
       "}\n",
       "  \n",
       "/* -----------div tips------------- */\n",
       "\n",
       "  div.individual, div.group, div.demo, div.note{\n",
       "    padding: 1em;\n",
       "    margin: 1em 0;\n",
       "    padding-left: 100px;\n",
       "    background-size: 70px;\n",
       "    background-color: transparent;\n",
       "    background-repeat: no-repeat;\n",
       "    background-position: 15px center;\n",
       "    min-height: 120px;\n",
       "    color: #000000;\n",
       "    font-family: sans-serif;\n",
       "    background-color: #FFFFFF;\n",
       "    border: solid 5px #008000;\n",
       "    -webkit-border-top-left-radius:6px;\n",
       "    -webkit-border-top-right-radius:6px;\n",
       "    -moz-border-radius-topleft:6px;\n",
       "    -moz-border-radius-topright:6px;\n",
       "    border-top-left-radius:6px;\n",
       "    border-top-right-radius:6px;\n",
       "    \n",
       "  }\n",
       "\n",
       "  div.individual {\n",
       "  background-image: url(\"fig/individual.png\");\n",
       "}\n",
       "\n",
       "div.group {\n",
       " background-image: url(\"fig/group.png\");\n",
       "}\n",
       "\n",
       "div.demo {\n",
       "  background-image: url(\"fig/Live-code.png\");\n",
       "}\n",
       "\n",
       "div.note {\n",
       "  background-image: url(\"fig/lightbulb.png\");\n",
       "}\n",
       "\n",
       "\n",
       "  div.box {\n",
       "  background-color: #008000;\n",
       "  border: solid 1px #008000;\n",
       "  background-position: left;\n",
       "  display: flex;\n",
       "  color: white;\n",
       "  font-family: trebuchet,sans-serif;\n",
       "  padding-left: 10px;\n",
       "  padding-right: 10px;\n",
       "  width: 100%;\n",
       "  height: 5%;\n",
       "  padding: 1em;\n",
       "  margin: 1em 0;\n",
       "  -webkit-border-top-left-radius:6px;\n",
       "  -webkit-border-top-right-radius:6px;\n",
       "  -moz-border-radius-topleft:6px;\n",
       "  -moz-border-radius-topright:6px;\n",
       "  border-top-left-radius:6px;\n",
       "  border-top-right-radius:6px;\n",
       "}\n",
       "\n",
       "\n",
       "body  {\n",
       "  text-align: justify;\n",
       "  text-justify: inter-word;\n",
       "}\n",
       "\n",
       "</style>"
      ],
      "text/plain": [
       "<IPython.core.display.HTML object>"
      ]
     },
     "execution_count": 2,
     "metadata": {},
     "output_type": "execute_result"
    }
   ],
   "source": [
    "#load css style\n",
    "def _set_css_style(css_file_path):\n",
    "    \"\"\"\n",
    "    Read the custom CSS file and load it into Jupyter.\n",
    "    Pass the file path to the CSS file.\n",
    "    \"\"\"\n",
    "\n",
    "    styles = open(css_file_path, \"r\").read()\n",
    "    s = '<style>%s</style>' % styles     \n",
    "    return HTML(s)\n",
    "_set_css_style('./style.css')"
   ]
  },
  {
   "cell_type": "code",
   "execution_count": 3,
   "id": "fe315b45",
   "metadata": {},
   "outputs": [],
   "source": [
    "# Read the edhs csv file\n",
    "df =  pd.read_csv('data/edhs.csv')\n",
    "# Drop duplicates\n",
    "#df = df.drop_duplicates(subset=['Household_Number'])\n",
    "# create features vectors\n",
    "X =  df.drop(['Child_is_Alive_Out_Outcome_Variable'], axis=1).values[:100]\n",
    "# select the target variable\n",
    "y= df['Child_is_Alive_Out_Outcome_Variable'].values[:100]\n",
    "\n",
    "# Split the dataset into train and test\n",
    "X_train, X_test, y_train, y_test = train_test_split(X, y,test_size=0.33,random_state=42)"
   ]
  },
  {
   "cell_type": "code",
   "execution_count": 4,
   "id": "94f077b9",
   "metadata": {},
   "outputs": [],
   "source": [
    "## plot selected variable for EDA\n",
    "#p=sns.jointplot(data=df,x='Number_of_of_Children_Under_5', y='Age_at_1st_Birth',kind='kde');\n",
    "#p.set_axis_labels(\"Number of childeren under 5\", \"Age at 1st Birth\")\n",
    "#plt.savefig('fig/eda.png')\n",
    "#plt.show()"
   ]
  },
  {
   "cell_type": "markdown",
   "id": "dc82c15c",
   "metadata": {},
   "source": [
    "## Ensemble Machine Learning\n",
    "\n",
    "__Outline__\n",
    "\n",
    "* Bagging\n",
    "* Staking\n",
    "* Boosting\n",
    "  * XGBoost\n",
    " \n",
    " Ensemble learning is a generic meta-machine learning technique that tries to improve predictive performance by mixing predictions from many models. In contrast to traditional learning approaches, which attempt to generate a single learner from training data, ensemble methods attempt to construct and integrate a number of learners. Ensemble learning can alternatively be referred to as committee-based learning or learning using numerous classifier systems. An ensemble is made up of a group of learners known as foundation learners. Most ensemble methods employ a single base learning algorithm to generate homogeneous base learners, i.e., learners of the same type, resulting in homogeneous ensembles; however, some methods employ multiple learning algorithms to generate heterogeneous learners, i.e., learners of different types, resulting in heterogeneous ensembles.\n",
    "\n",
    "An ensemble's generalization capacity is frequently substantially stronger than that of basic learners. Actually, ensemble techniques are interesting primarily because they may elevate weak learners who are just marginally better than random guesses to strong learners who can make highly accurate predictions. As a result, base learners are often known as weak learners. Ensemble techniques aim to increase generalizability or resilience over a single estimator by combining the predictions of numerous base estimators developed with a specific learning procedure.\n",
    "\n",
    "![](fig/learners.png)\n",
    "\n",
    "\n",
    "### Ensemble Methods\n",
    "\n",
    "Although there appear to be an infinite amount of ensembles that you may create for your predictive modeling challenge, the three  most popular methods that dominate the area of ensemble learning are:\n",
    "* Bagging. Building multiple the same type models from different subsamples of the training dataset.\n",
    "* Boosting. Building multiple the same type models each of which learns to fix the prediction errors of a prior model in the sequence of models.\n",
    "* Stacking(Voting). Building multiple different models and simple statistics (like calculating the mean) are used to combine predictions.\n",
    "\n",
    "![](fig/ensemble_methods.png)\n",
    "\n",
    "\n",
    "####  Bagging  Ensemble {#bag}\n",
    "\n",
    "Bootstrap Aggregation (or Bagging) involves taking multiple samples from your training dataset (with replacement) and training a model for each sample. The final output prediction is averaged across the predictions of all of the sub-models. Some of different bagging models to be be used for aggregating includes:\n",
    "* Bagged Decision Trees.\n",
    "* Random Forest.\n",
    "* Extra Trees.\n",
    "\n",
    "![](fig/bagging.png)\n",
    "\n",
    "\n",
    "The bootstrap method goes as follows. Let there be a sample $X$ of size $\\large N$. We can make a new sample from the original sample by drawing $N$ elements from the latter randomly and uniformly, with replacement. In other words, we select a random element from the original sample of size $N$ and do this $N$ times. All elements are equally likely to be selected, thus each element is drawn with the equal probability $\\frac{1}{N}$.\n",
    "\n",
    "Let's say we are drawing balls from a bag one at a time. At each step, the selected ball is put back into the bag so that the next selection is made equiprobably i.e. from the same number of balls $N$. Note that, because we put the balls back, there may be duplicates in the new sample. Let's call this new sample $X_1$.\n",
    "\n",
    "By repeating this procedure $M$ times, we create $M$ *bootstrap samples* $X_1, \\dots, X_M$. In the end, we have a sufficient number of samples and can compute various statistics of the original distribution.\n",
    "\n",
    "\n"
   ]
  },
  {
   "cell_type": "code",
   "execution_count": 5,
   "id": "da9d680f",
   "metadata": {},
   "outputs": [
    {
     "name": "stdout",
     "output_type": "stream",
     "text": [
      "Bagged Decision Trees Accuracy 1.00\n"
     ]
    }
   ],
   "source": [
    "from sklearn.ensemble import BaggingClassifier\n",
    "from sklearn.tree import DecisionTreeClassifier\n",
    "from sklearn.model_selection import KFold\n",
    "from sklearn.model_selection import cross_val_score\n",
    "# Read the edhs csv file\n",
    "df =  pd.read_csv('data/edhs.csv')\n",
    "# create features vectors\n",
    "X =  df.drop(['Child_is_Alive_Out_Outcome_Variable'], axis=1).values[:100]\n",
    "# select the target variable\n",
    "y= df['Child_is_Alive_Out_Outcome_Variable'].values[:100]\n",
    "# Split the dataset into train and test\n",
    "X_train, X_test, y_train, y_test = train_test_split(X, y,test_size=0.33,random_state=42)\n",
    "num_trees = 5\n",
    "bag_model = BaggingClassifier(base_estimator=DecisionTreeClassifier(),\n",
    "                              n_estimators=num_trees, random_state=42) \n",
    "bag_model.fit(X_train, y_train)\n",
    "y_pred = bag_model.predict(X_test)\n",
    "score = accuracy_score(y_test,y_pred)\n",
    "print(\"Bagged Decision Trees Accuracy %.2f\" % (score))"
   ]
  },
  {
   "cell_type": "markdown",
   "id": "d65a7fa4",
   "metadata": {},
   "source": [
    "__ROC Curves__\n",
    "\n",
    "Receiver Operating Characteristic (ROC) curve is one of the most common graphical tools to diagnose the ability of a binary classifier, independent of the inherent classification algorithm for predicting the probability of a binary outcome. It is a plot of the __false positive rate (x-axis)__ versus the __true positive rate (y-axis)__ for a number of different candidate threshold values between 0.0 and 1.0. Put another way, it plots the false alarm rate versus the hit rate. The true positive rate is calculated as the number of true positives divided by the sum of the number of true positives and the number of false negatives. It describes how good the model is at predicting the positive class when the actual outcome is positive. Let's implement Roc curve for our bagging classifier model above as follows:"
   ]
  },
  {
   "cell_type": "code",
   "execution_count": 6,
   "id": "3a030ee6",
   "metadata": {},
   "outputs": [
    {
     "name": "stdout",
     "output_type": "stream",
     "text": [
      "No Skill: ROC AUC=0.500\n",
      "Bagging: ROC AUC=1.000\n"
     ]
    },
    {
     "data": {
      "image/png": "[encoded data removed]",
      "text/plain": [
       "<Figure size 720x576 with 1 Axes>"
      ]
     },
     "metadata": {},
     "output_type": "display_data"
    }
   ],
   "source": [
    "## ROC Curve\n",
    "# generate a no skill prediction (majority class)\n",
    "from sklearn.metrics import roc_curve, auc\n",
    "from sklearn.metrics import roc_auc_score\n",
    "ns_probs = [0 for _ in range(len(y_test))]\n",
    "# predict probabilities\n",
    "lr_probs = bag_model.predict_proba(X_test)\n",
    "# keep probabilities for the positive outcome only\n",
    "lr_probs = lr_probs[:,1]\n",
    "# calculate scores\n",
    "ns_auc = roc_auc_score(y_test, ns_probs)\n",
    "lr_auc = roc_auc_score(y_test, lr_probs)\n",
    "# summarize scores\n",
    "print('No Skill: ROC AUC=%.3f' % (ns_auc))\n",
    "print('Bagging: ROC AUC=%.3f' % (lr_auc))\n",
    "# calculate roc curves\n",
    "ns_fpr, ns_tpr, _ = roc_curve(y_test, ns_probs)\n",
    "lr_fpr, lr_tpr, _ = roc_curve(y_test, lr_probs)\n",
    "# plot the roc curve for the model\n",
    "plt.plot(ns_fpr, ns_tpr, linestyle='--', label='No Skill')\n",
    "plt.plot(lr_fpr, lr_tpr, marker='.', label='Bagging')\n",
    "# axis labels\n",
    "plt.xlabel('False Positive Rate')\n",
    "plt.ylabel('True Positive Rate')\n",
    "# show the legend\n",
    "plt.legend()\n",
    "# show the plot\n",
    "plt.show()"
   ]
  },
  {
   "cell_type": "code",
   "execution_count": 7,
   "id": "43fbcdd9",
   "metadata": {},
   "outputs": [
    {
     "data": {
      "image/png": "[encoded data removed]",
      "text/plain": [
       "<Figure size 720x576 with 1 Axes>"
      ]
     },
     "metadata": {},
     "output_type": "display_data"
    }
   ],
   "source": [
    "# Compute micro-average ROC curve and ROC area\n",
    "from sklearn.metrics import roc_curve, auc\n",
    "from sklearn.metrics import roc_auc_score\n",
    "#auc = roc_auc_score(y_pred, y_test)\n",
    "fpr, tpr, _ = roc_curve(y_pred, y_test)\n",
    "roc_auc = auc(fpr, tpr)\n",
    "plt.figure()\n",
    "lw = 2\n",
    "plt.plot(fpr, tpr, color='darkorange',\n",
    "             lw=lw, label='ROC curve (area = %0.2f)' % roc_auc)\n",
    "plt.plot([0, 1], [0, 1], color='navy', lw=lw, linestyle='--')\n",
    "plt.xlim([-0.02, 1.0])\n",
    "plt.ylim([0.0, 1.05])\n",
    "plt.xlabel('False Positive Rate')\n",
    "plt.ylabel('True Positive Rate')\n",
    "plt.title('ROC curve')\n",
    "plt.legend(loc=\"lower right\")\n",
    "plt.show()"
   ]
  },
  {
   "cell_type": "markdown",
   "id": "e45fff36",
   "metadata": {},
   "source": [
    "### K-Folds Cross-validation\n",
    "\n",
    "Cross validation is an important topic in the Machine Learning to ensure that our model is robust enough. \n",
    "\n",
    " ![](fig/Cross_validation.jpg)\n",
    "\n",
    "Cross-validation is a method for estimating the performance of a machine learning algorithm that has less variation than a single train-test set split. It operates by dividing the dataset into k-parts (for example, k=5,10,15...). Each division in the dataset is referred to as a fold. As a result, the algorithm is trained on k-1 folds with one held back before being evaluated on the held back fold. This process is continued until each fold of the dataset has a chance to be the held back tes set. After performing cross validation, we get k-different performance ratings that we can be summarized using a __mean and a standard deviation__ that result in a more credible assessment of the algorithm's performance on new data."
   ]
  },
  {
   "cell_type": "code",
   "execution_count": 8,
   "id": "ad2ada34",
   "metadata": {},
   "outputs": [
    {
     "name": "stdout",
     "output_type": "stream",
     "text": [
      "Bagged Decision Trees the mean accuracy 0.97 and Std 0.06\n"
     ]
    }
   ],
   "source": [
    "# cross model validation\n",
    "from sklearn.ensemble import BaggingClassifier\n",
    "from sklearn.tree import DecisionTreeClassifier\n",
    "from sklearn.model_selection import KFold\n",
    "from sklearn.model_selection import cross_val_score\n",
    "\n",
    "# k-fold cross validation\n",
    "kfold = KFold(n_splits=5, random_state=42,shuffle=True )\n",
    "num_trees = 5\n",
    "model = BaggingClassifier(base_estimator=DecisionTreeClassifier(),\n",
    "                          n_estimators=num_trees, random_state=42) \n",
    "results = cross_val_score(model, X, y, cv=kfold)\n",
    "print(\"Bagged Decision Trees the mean accuracy %.2f and Std %.2f\" % (results.mean(),\n",
    "                                                                     results.std()))"
   ]
  },
  {
   "cell_type": "markdown",
   "id": "e64585b0",
   "metadata": {},
   "source": [
    "<div class=\"individual\">\n",
    "<div class=\"box\">\n",
    "<p><strong>Activity <a href=\"machine-learning.html#bag\">5.2.1</a> Individual Guided Practice on Bagging</strong></p>\n",
    "</div>\n",
    "<p><strong>Instruction</strong>: Implement the cross-validation with $k= 10$ and compare with the previous results. Did you get worse or better  accuracy? justify the reason?</p>\n",
    "<p><strong>Time Allowed</strong> : 15 Minutes</p>\n",
    "</div>\n",
    "</div>\n",
    "</div>"
   ]
  },
  {
   "cell_type": "markdown",
   "id": "43f6b948",
   "metadata": {},
   "source": [
    "<div class=\"individual\">\n",
    "<div class=\"box\">\n",
    "<p><strong>Solution<a href=\"machine-learning.html#bag\">5.2.1</a> Solution for Individual Guided Practice on Bagging</strong></p>\n",
    "</div>\n",
    "</div>\n",
    "</div>\n",
    "</div>"
   ]
  },
  {
   "cell_type": "code",
   "execution_count": 9,
   "id": "9b858e7c",
   "metadata": {},
   "outputs": [
    {
     "name": "stdout",
     "output_type": "stream",
     "text": [
      "Bagged Decision Trees the mean accuracy 1.00 and Std 0.00\n"
     ]
    }
   ],
   "source": [
    "# Activity 5.1 Solution for Individual Guided Practice on Bagging K = 10\n",
    "from sklearn.ensemble import BaggingClassifier\n",
    "from sklearn.tree import DecisionTreeClassifier\n",
    "from sklearn.model_selection import KFold\n",
    "from sklearn.model_selection import cross_val_score\n",
    "kfold = KFold(n_splits=10, random_state=42,shuffle=True )\n",
    "cart = DecisionTreeClassifier()\n",
    "num_trees = 5\n",
    "model = BaggingClassifier(base_estimator=cart,n_estimators=num_trees, random_state=42) \n",
    "results = cross_val_score(model, X, y, cv=kfold)\n",
    "print(\"Bagged Decision Trees the mean accuracy %.2f and Std %.2f\" % (results.mean(), results.std()))"
   ]
  },
  {
   "cell_type": "markdown",
   "id": "4cbb084e",
   "metadata": {},
   "source": [
    "> The mean accuracy is increased and the standard deviation of model is deacreased when $k = 10$. Therefore it is better to use bigger k value when the dataset big enough. "
   ]
  },
  {
   "cell_type": "markdown",
   "id": "87dd8b89",
   "metadata": {},
   "source": [
    "#### Random Forest\n",
    "\n",
    "Random Forests is an extension of bagged decision trees. Samples of the training data-set are\n",
    "taken with replacement, but the trees are constructed in a way that reduces the correlation\n",
    "between individual classifiers. Specifically, rather than greedily choosing the best split point in the construction of each tree, only a random subset of features are considered for each split. You can construct a Random Forest model for classification using the `RandomForestClassifier` class"
   ]
  },
  {
   "cell_type": "code",
   "execution_count": 10,
   "id": "450099b4",
   "metadata": {},
   "outputs": [
    {
     "name": "stdout",
     "output_type": "stream",
     "text": [
      "The RandomForest Classifier mean accuracy is 1.00 and Std is 0.00\n"
     ]
    }
   ],
   "source": [
    "# Random Forest Classifier with Cross Validation, k = 5\n",
    "import pandas as pd\n",
    "from sklearn.model_selection import KFold\n",
    "from sklearn.model_selection import cross_val_score\n",
    "from sklearn.ensemble import RandomForestClassifier # ETC classifier\n",
    "df =  pd.read_csv('data/edhs.csv')\n",
    "df = df.drop_duplicates(subset=['Cluster_Number'])\n",
    "# create features vectors\n",
    "X =  df.drop(['Child_is_Alive_Out_Outcome_Variable'], axis=1).values[:100]\n",
    "#Normalization\n",
    "scaler =  StandardScaler()\n",
    "# transform data\n",
    "X = scaler.fit_transform(X)\n",
    "# select the target variable\n",
    "y= df['Child_is_Alive_Out_Outcome_Variable'].values[:100]\n",
    "num_trees = 5\n",
    "max_features = 25   # features in the dataset\n",
    "kfold = KFold(n_splits=5, random_state=42,shuffle=True)\n",
    "model = RandomForestClassifier(n_estimators=num_trees,\n",
    "max_features=max_features) \n",
    "results = cross_val_score(model, X, y, cv=kfold)\n",
    "print(\"The RandomForest Classifier mean accuracy is %.2f and Std is %.2f\" % (results.mean(), results.std()))\n"
   ]
  },
  {
   "cell_type": "markdown",
   "id": "ff48af9d",
   "metadata": {},
   "source": [
    "#### Extra Trees\n",
    "Extra Trees are another modification of bagging where random trees are constructed from samples of the training dataset. You can construct an Extra Trees model for classification using `ExtraTreesClassifier` class."
   ]
  },
  {
   "cell_type": "code",
   "execution_count": 11,
   "id": "f455e577",
   "metadata": {},
   "outputs": [
    {
     "name": "stdout",
     "output_type": "stream",
     "text": [
      "The ExtraTree Classifier mean accuracy is 1.00 and Std is 0.00\n"
     ]
    }
   ],
   "source": [
    "# Extra Trees Classification\n",
    "import pandas as pd\n",
    "from sklearn.model_selection import KFold\n",
    "from sklearn.model_selection import cross_val_score\n",
    "from sklearn.ensemble import ExtraTreesClassifier # ETC classifier\n",
    "df =  pd.read_csv('data/edhs.csv')\n",
    "df = df.drop_duplicates(subset=['Cluster_Number'])\n",
    "# create features vectors\n",
    "X =  df.drop(['Child_is_Alive_Out_Outcome_Variable'], axis=1).values[:100]\n",
    "#Normalization\n",
    "scaler =  StandardScaler()\n",
    "# transform data\n",
    "#X = scaler.fit_transform(X)\n",
    "# select the target variable\n",
    "y= df['Child_is_Alive_Out_Outcome_Variable'].values[:100]\n",
    "\n",
    "num_trees = 3\n",
    "max_features = X.shape[1]\n",
    "kfold = KFold(n_splits=5, random_state=42,shuffle=True)\n",
    "model = ExtraTreesClassifier(n_estimators=num_trees, max_features=max_features) \n",
    "results = cross_val_score(model, X, y, cv=kfold)\n",
    "print(\"The ExtraTree Classifier mean accuracy is %.2f and Std is %.2f\" % (results.mean(), results.std()))"
   ]
  },
  {
   "cell_type": "markdown",
   "id": "bd1373bc",
   "metadata": {},
   "source": [
    "\n",
    "<div class=\"group\">\n",
    "<div class=\"box\">\n",
    "<p><strong>Activity <a href=\"machine-learning.html#bag\">5.2.2</a> Group Guided Practice on Bagging</strong></p>\n",
    "</div>\n",
    "<p><strong>Instruction</strong>: Comparing the cross-validation classification scores of Bagging Decision Tree, Reandom Forest and ExtraTree models and which classifier gives you a better classification accuracy?</p>\n",
    "<p><strong>Time Allowed</strong> : 5 Minutes</p>\n",
    "</div>\n",
    "</div>\n",
    "</div>\n"
   ]
  },
  {
   "cell_type": "markdown",
   "id": "9b5ccf38",
   "metadata": {},
   "source": [
    "<div class=\"group\">\n",
    "<div class=\"box\">\n",
    "<p><strong>Solution <a href=\"machine-learning.html#bag\">5.2.2</a>  for Group Guided Practice on Bagging</strong></p>\n",
    "</div>\n",
    "<div> \n",
    "  <p> Bagged Decision Tree classifier accuracy = 0.97, </p>\n",
    "  <p> Random-Forest classifier accuracy = 0.98 , and </p>\n",
    "  <p> Extra Tree classifier accuracy = 0.99</p> \n",
    "  <p> Hence, extra tree with cross-validation k=5 has a better classification accouracy. <strong> Note that</strong> when k > 5 the accuracy might be improved further</p></div>\n",
    "</div>\n",
    "</div>\n",
    "</div>"
   ]
  },
  {
   "cell_type": "markdown",
   "id": "5b199928",
   "metadata": {},
   "source": [
    "#### Stacking(Voting) Ensemble\n",
    "\n",
    "Voting is one of the simplest ways of combining the predictions from multiple machine learning algorithms. It works by first creating two or more standalone models from your training data-set. A Voting Classifier can then be used to wrap your models and average the predictions of the sub-models when asked to make predictions for new data. The predictions of the sub-models can be weighted, but specifying the weights for classifiers manually or even heuristically is difficult. More advanced methods can learn how to best weight the predictions from sub-models, but this is called stacking (stacked aggregation) and is currently not provided in scikit-learn. You can create a voting ensemble model for classification using the `VotingClassifier` class. The code below provides an example of combining the predictions of logistic regression, classification and regression trees and support vector machines together for a classification problem."
   ]
  },
  {
   "cell_type": "code",
   "execution_count": 12,
   "id": "4c81a913",
   "metadata": {},
   "outputs": [
    {
     "name": "stdout",
     "output_type": "stream",
     "text": [
      "SVM: 0.970000 (0.040000)\n",
      "KNB: 0.960000 (0.058310)\n",
      "CART: 0.970000 (0.060000)\n",
      "RF: 0.970000 (0.040000)\n"
     ]
    }
   ],
   "source": [
    "# Voting Classifiers\n",
    "import matplotlib.pyplot as plt\n",
    "import seaborn as sns\n",
    "from sklearn.model_selection import KFold\n",
    "from sklearn.model_selection import cross_val_score\n",
    "from sklearn.ensemble import RandomForestClassifier\n",
    "from sklearn.tree import DecisionTreeClassifier\n",
    "from sklearn.svm import SVC\n",
    "from sklearn.ensemble import VotingClassifier\n",
    "from sklearn.ensemble import RandomForestClassifier\n",
    "from sklearn.svm import SVC\n",
    "from sklearn.neighbors import KNeighborsClassifier\n",
    "\n",
    "num_trees = 5\n",
    "max_features = 27\n",
    "# prepare models\n",
    "models = []\n",
    "models.append(('SVM', SVC(C=10, kernel='rbf')))\n",
    "models.append((\"KNB\",KNeighborsClassifier(n_neighbors=5)))\n",
    "models.append(('CART', DecisionTreeClassifier(max_depth=4)))\n",
    "models.append(('RF', RandomForestClassifier(n_estimators=10)))\n",
    "\n",
    "# create the ensemble model\n",
    "ensemble = VotingClassifier(models)\n",
    "# evaluate each model in turn\n",
    "results = []\n",
    "names = []\n",
    "scoring = 'accuracy'\n",
    "for name, model in models:\n",
    "    kfold = KFold(n_splits=5, random_state=42,shuffle=True)\n",
    "    cv_results = cross_val_score(ensemble, X, y, cv=kfold, scoring=scoring) \n",
    "    results.append(cv_results)\n",
    "    names.append(name)\n",
    "    msg = \"%s: %f (%f)\" % (name, cv_results.mean(), cv_results.std())\n",
    "    print(msg)"
   ]
  },
  {
   "cell_type": "markdown",
   "id": "3423a4d6",
   "metadata": {},
   "source": [
    "### Boosting  Ensemble\n",
    "\n",
    "The term boosting refers to a family of algorithms that are able to convert weak learners to strong learners. Intuitively, a weak learner is just slightly better than random guess, while a strong learner is very close to perfect performance. \n",
    "\n",
    "\n",
    "#### Gradient boosting\n",
    "\n",
    "Gradient boosting is one of the most powerful techniques for building predictive models that combines gradient descent and boosting. Instead of computing the overall true gradient explicitly, gradient boosting aims to approximate the true gradient with a weak learner.  A weak learner is defined as one whose performance is at least slightly better than random chance. These ideas built upon Leslie Valiant's work on distribution free or Probability Approximately Correct (PAC) learning, a framework for investigating the complexity of machine learning problems. Hypothesis boosting was the idea of filtering observations, leaving those observations that the weak learner can handle and focusing on developing new weak learns to handle the remaining difficult observations.\n",
    "\n",
    "\n",
    "After completing this section, you will able to  describe:\n",
    "* The origin of boosting from learning theory and AdaBoost.\n",
    "* How gradient boosting works including the loss function, weak learners and the additive\n",
    "model.\n",
    "* How to improve performance over the base algorithm with various regularization schemes.\n",
    "\n",
    "\n",
    "### Adaptive Boosting\n",
    "\n",
    "The first realization of boosting that saw great success in application was Adaptive Boosting(AdaBoost). The weak learners in AdaBoost are decision trees with a single split, called decision stumps for their shortness. AdaBoost works by weighting the observations, putting more weight on difficult to classify instances and less on those already handled well. New weak learners are added sequentially that focus their training on the more difficult patterns. ___This means that samples that are difficult to classify receive increasing larger weights until the algorithm identifies a model that correctly classifies these samples___. \n",
    "\n",
    "AdaBoost and related algorithms were recast in a statistical framework first by Breiman calling them ARCing algorithms.Arcing is an acronym for Adaptive Reweighting and Combining. Each step in an arcing algorithm consists of a weighted minimization followed by a recomputation of __the classifiers__ and __weighted input__. Gradient boosting( gradient tree boosting) is  a numerical optimization problem where the objective is to minimize the loss of the model by adding weak learners using a gradient descent like procedure. It involves three elements: \n",
    "1. A loss function to be optimized.\n",
    "2. A weak learner to make predictions.\n",
    "3. An additive model to add weak learners to minimize the loss function.\n",
    "\n",
    "\n",
    "\n",
    "####  Extreme Gradient Boosting(XGBoost)\n",
    "\n",
    "XGBoost is the leading model for working with standard tabular data (the type of data you store in Pandas DataFrames, as opposed to data like images and videos. It has recently been dominating applied machine learning competitions for structured or tabular data. It is an implementation of gradient boosted decision trees designed for speed and performance. The implementation of the model supports the features of the `scikit-learn` implementations, with new additions like regularization. Three main forms of gradient boosting supported are:\n",
    "\n",
    "* Gradient Boosting algorithm also called gradient boosting machine including the learning rate.\n",
    "* Stochastic Gradient Boosting with sub-sampling at the row, column and column per split levels.\n",
    "* Regularized Gradient Boosting with both $L_1$ and $L_2$ regularization.\n",
    "\n",
    "\n",
    " To reach peak accuracy, XGBoost models require more knowledge and model tuning than techniques like Random Forest. XGBoost is an implementation of the Gradient Boosted Decision Trees algorithm (scikit-learn has another version of this algorithm, but XGBoost has some technical advantages.) What is Gradient Boosted Decision Trees? We'll walk through a diagram.\n",
    "\n",
    "\n",
    "<div class=\"group\">\n",
    "<div class=\"box\">\n",
    "<p><strong>Activity <a href=\"machine-learning.html#xgboost\">5.3</a> Group Guided Practice on Regularization</strong></p>\n",
    "</div>\n",
    "<p><strong>Instruction</strong>: Discuss in a group of five about  $L_1$ and $L_2$</p>\n",
    "<p><strong>Time Allowed</strong> : 15 Minutes</p>\n",
    "</div>\n",
    "</div>\n",
    "</div>"
   ]
  },
  {
   "cell_type": "markdown",
   "id": "cd09e105",
   "metadata": {},
   "source": [
    "<div class=\"group\">\n",
    "<div class=\"box\">\n",
    "<p><strong>Solution  <a href=\"machine-learning.html#bag\">5.3</a> Solution for Group Guided Practice on L1 and L2 Regulization</strong></p>\n",
    "</div>\n",
    "<div> \n",
    "  <p> The key obvious difference between L1 and L2 regularization is that L1 regularization attempts to estimate the data's median, whereas L2 regularization attempts to estimate the data's mean to avoid overfitting.</p></div>\n",
    "</div>\n",
    "</div>\n",
    "</div>"
   ]
  },
  {
   "cell_type": "code",
   "execution_count": 13,
   "id": "c59ff1ce",
   "metadata": {},
   "outputs": [
    {
     "name": "stdout",
     "output_type": "stream",
     "text": [
      "Accuracy: 95.45%\n"
     ]
    }
   ],
   "source": [
    "from xgboost import XGBClassifier\n",
    "from sklearn.model_selection import train_test_split \n",
    "from sklearn.metrics import accuracy_score\n",
    "from sklearn.metrics import roc_curve, auc,recall_score,precision_score\n",
    "df =  pd.read_csv('data/edhs.csv')\n",
    "df = df.drop_duplicates(subset=['Cluster_Number'])\n",
    "# create features vectors\n",
    "X =  df.drop(['Child_is_Alive_Out_Outcome_Variable','year','CMC_date_of_interview'], axis=1).values[:200]\n",
    "\n",
    "# select the target variable\n",
    "y= df['Child_is_Alive_Out_Outcome_Variable'].values[:200]\n",
    "\n",
    "# Split the dataset into train and test\n",
    "X_train, X_test, y_train, y_test = train_test_split(X, y,\n",
    "test_size=0.33,random_state=42)\n",
    "\n",
    "# fit model on training data\n",
    "model = XGBClassifier(use_label_encoder=False,eval_metric='logloss')\n",
    "model.fit(X_train, y_train)\n",
    "# make predictions for test data\n",
    "y_pred = model.predict(X_test)\n",
    "# evaluate predictions\n",
    "accuracy = accuracy_score(y_test, y_pred) \n",
    "print(\"Accuracy: %.2f%%\" % (accuracy * 100.0))"
   ]
  },
  {
   "cell_type": "markdown",
   "id": "4f04fcaa",
   "metadata": {},
   "source": [
    "## XGBoost  Model Validation\n",
    "\n",
    " Cross-validation is an approach that you can use to estimate the performance of a machine learning algorithm with less variance than a single train-test set split. It works by splitting the dataset into k-parts (e.g. k = 5 or k = 10). Each split of the data is called a fold. The algorithm is trained on k − 1 folds with one held back and tested on the held back fold. This is repeated so that each fold of the dataset is given a chance to be the held back test set. After running cross-validation you end up with k-different performance scores that you can summarize using a mean and a standard deviation."
   ]
  },
  {
   "cell_type": "code",
   "execution_count": 14,
   "id": "2c5edeb5",
   "metadata": {},
   "outputs": [
    {
     "name": "stdout",
     "output_type": "stream",
     "text": [
      "Accuracy: 98.50% and std (3.00%)\n"
     ]
    }
   ],
   "source": [
    "from xgboost import XGBClassifier\n",
    "from sklearn.model_selection import train_test_split \n",
    "from sklearn.metrics import accuracy_score\n",
    "\n",
    "df =  pd.read_csv('data/edhs.csv')\n",
    "df = df.drop_duplicates(subset=['Cluster_Number'])\n",
    "# create features vectors\n",
    "X =  df.drop(['Child_is_Alive_Out_Outcome_Variable'], axis=1).values[:200]\n",
    "#Normalization\n",
    "scaler =  StandardScaler()\n",
    "# transform data\n",
    "X = scaler.fit_transform(X)\n",
    "# select the target variable\n",
    "y= df['Child_is_Alive_Out_Outcome_Variable'].values[:200]\n",
    "\n",
    "#  XGBClassifier model with cv = 10\n",
    "model = XGBClassifier(use_label_encoder=False,eval_metric='logloss')\n",
    "kfold = KFold(n_splits=5, random_state=42,shuffle=True)\n",
    "results = cross_val_score(model, X, y, cv=kfold)\n",
    "print(\"Accuracy: %.2f%% and std (%.2f%%)\" % (results.mean()*100, results.std()*100))"
   ]
  },
  {
   "cell_type": "code",
   "execution_count": 15,
   "id": "bc33d79a",
   "metadata": {},
   "outputs": [
    {
     "name": "stdout",
     "output_type": "stream",
     "text": [
      "Accuracy: 0.955\n"
     ]
    },
    {
     "data": {
      "image/png": "[encoded data removed]",
      "text/plain": [
       "<Figure size 720x576 with 1 Axes>"
      ]
     },
     "metadata": {},
     "output_type": "display_data"
    }
   ],
   "source": [
    "from xgboost import XGBClassifier\n",
    "from sklearn.model_selection import train_test_split \n",
    "from sklearn.metrics import accuracy_score\n",
    "\n",
    "df =  pd.read_csv('data/edhs.csv')\n",
    "df = df.drop_duplicates(subset=['Cluster_Number'])\n",
    "# create features vectors\n",
    "X =  df.drop(['Child_is_Alive_Out_Outcome_Variable'], axis=1).values[:200]\n",
    "#Normalization\n",
    "scaler =  StandardScaler()\n",
    "# transform data\n",
    "X = scaler.fit_transform(X)\n",
    "# select the target variable\n",
    "y= df['Child_is_Alive_Out_Outcome_Variable'].values[:200]\n",
    "\n",
    "# fit model no training data\n",
    "model = XGBClassifier(use_label_encoder=False,eval_metric='logloss')\n",
    "# Split the dataset into train and test\n",
    "X_train, X_test, y_train, y_test = train_test_split(X, y,\n",
    "test_size=0.33,random_state=42)\n",
    "\n",
    "# define the model\n",
    "xgb_clf = XGBClassifier(n_estimators=100, max_depth=6,use_label_encoder=False,eval_metric='logloss',\n",
    "                        random_state=42)\n",
    "# define the datasets to evaluate each iteration\n",
    "evalset = [(X_train, y_train), (X_test,y_test)]\n",
    "# fit the model\n",
    "xgb_clf.fit(X_train, y_train, eval_metric='logloss', eval_set=evalset,verbose=False)\n",
    "# evaluate performance\n",
    "yhat = xgb_clf.predict(X_test)\n",
    "score = accuracy_score(y_test, yhat)\n",
    "print('Accuracy: %.3f' % score)\n",
    "# retrieve performance metrics\n",
    "results = xgb_clf.evals_result()\n",
    "# plot learning curves\n",
    "plt.plot(results['validation_0']['logloss'], label='train')\n",
    "plt.plot(results['validation_1']['logloss'], label='test')\n",
    "# show the legend\n",
    "plt.legend()\n",
    "#save the fig\n",
    "plt.savefig('fig/Learning_curves_without_Early_Stopping.png',dpi=300)\n",
    "# show the plot\n",
    "plt.show()"
   ]
  },
  {
   "cell_type": "markdown",
   "id": "2cac6ce8",
   "metadata": {},
   "source": [
    "The above learning curve shows that the model start to overfit after 40  itrations. Thus we need have a mechanism to stop this overfitting problem.The plot shows learning curves for the train and test dataset where the x-axis is the number of iterations of the algorithm (or the number of trees added to the ensemble) and the y-axis is the logloss of the model. Each line shows the logloss per iteration for a given dataset.\n",
    "\n",
    "From the learning curves, we can see that the performance of the model on the training dataset (blue line) is better or has lower loss than the performance of the model on the test dataset (orange line), as we might generally expect. However, the inflection point in validation loss may be the point at which training could be halted as experience after that point shows the dynamics of overfitting."
   ]
  },
  {
   "cell_type": "markdown",
   "id": "985184b3",
   "metadata": {},
   "source": [
    "## Early Stopping \n",
    "\n",
    "Early stopping is a method of avoiding overfitting while training complicated machine learning models. It works by monitoring the performance of the model being trained on a separate test dataset and terminating the training operation if the performance on the test dataset does not improve after a given number of training iterations. It prevents overfitting by attempting to automatically pick the moment at which performance on the test dataset begins to decline while performance on the training dataset continues to increase when the model begins to overfit. \n",
    "\n",
    "The performance metric might be the loss function being optimized to train the model (such as logarithmic loss), or it could be an external statistic relevant to the challenge in general (such as classification accuracy)."
   ]
  },
  {
   "cell_type": "code",
   "execution_count": 16,
   "id": "f0bf1e20",
   "metadata": {},
   "outputs": [],
   "source": [
    "from xgboost import XGBClassifier\n",
    "from sklearn.model_selection import train_test_split \n",
    "from sklearn.metrics import accuracy_score\n",
    "\n",
    "df =  pd.read_csv('data/edhs.csv')\n",
    "df = df.drop_duplicates(subset=['Cluster_Number'])\n",
    "# create features vectors\n",
    "X =  df.drop(['Child_is_Alive_Out_Outcome_Variable'], axis=1).values\n",
    "#Normalization\n",
    "scaler =  StandardScaler()\n",
    "# transform data\n",
    "X = scaler.fit_transform(X) # adding normalization to prevent overfitting\n",
    "# select the target variable\n",
    "y= df['Child_is_Alive_Out_Outcome_Variable'].values\n",
    "\n",
    "# Split the dataset into train and test\n",
    "X_train, X_test, y_train, y_test = train_test_split(X, y,\n",
    "test_size=0.33,random_state=42)\n",
    "\n",
    "# define the model\n",
    "xgb_clf = XGBClassifier(n_estimators=100, max_depth=6,use_label_encoder=False,eval_metric='logloss',\n",
    "                        random_state=42)\n",
    "# define the datasets to evaluate each iteration\n",
    "evalset = [(X_train, y_train), (X_test,y_test)]\n",
    "# fit the model\n",
    "xgb_clf.fit(X_train, y_train, eval_set=evalset, early_stopping_rounds=10,verbose=False);"
   ]
  },
  {
   "cell_type": "code",
   "execution_count": 17,
   "id": "d81ba783",
   "metadata": {},
   "outputs": [
    {
     "data": {
      "text/plain": [
       "39"
      ]
     },
     "execution_count": 17,
     "metadata": {},
     "output_type": "execute_result"
    }
   ],
   "source": [
    "xgb_clf.best_ntree_limit"
   ]
  },
  {
   "cell_type": "code",
   "execution_count": 18,
   "id": "ef582a8f",
   "metadata": {},
   "outputs": [
    {
     "data": {
      "image/png": "[encoded data removed]",
      "text/plain": [
       "<Figure size 720x504 with 1 Axes>"
      ]
     },
     "metadata": {},
     "output_type": "display_data"
    }
   ],
   "source": [
    "results = xgb_clf.evals_result()\n",
    "plt.figure(figsize=(10,7))\n",
    "plt.plot(results[\"validation_0\"][\"logloss\"], label=\"Training loss\")\n",
    "plt.plot(results[\"validation_1\"][\"logloss\"], label=\"Validation loss\")\n",
    "plt.axvline(xgb_clf.best_ntree_limit, color=\"gray\", label=\"Optimal tree number\")\n",
    "plt.xlabel(\"Number of trees\")\n",
    "plt.ylabel(\"Loss\")\n",
    "plt.savefig('Learning_curves_with_Early_Stopping.png',dpi=300)\n",
    "plt.legend();"
   ]
  },
  {
   "cell_type": "markdown",
   "id": "5ae8f63e",
   "metadata": {},
   "source": [
    "We can see that the model stopped training at epoch 39. It is generally a good idea to select the early_stopping_rounds as a reasonable function of the total number of training epochs (10% in this case) or attempt to correspond to the period of inflection points as might be observed on plots of learning curves."
   ]
  },
  {
   "cell_type": "markdown",
   "id": "0b748cd1",
   "metadata": {},
   "source": [
    "The plot shows learning curves for the train and test dataset where the x-axis is the number of iterations of the algorithm (or the number of trees added to the ensemble) and the y-axis is the logloss of the model with optimal at 39 trees. Each line shows the logloss per iteration for a given dataset. From the learning curves, we can see that the performance of the model on the training dataset (blue line) is better or has lower loss than the performance of the model on the test dataset (orange line), as we might generally expect."
   ]
  },
  {
   "cell_type": "code",
   "execution_count": 19,
   "id": "66a914be",
   "metadata": {},
   "outputs": [
    {
     "data": {
      "image/png": "[encoded data removed]",
      "text/plain": [
       "<Figure size 720x576 with 1 Axes>"
      ]
     },
     "metadata": {},
     "output_type": "display_data"
    }
   ],
   "source": [
    "feat_name = []\n",
    "feat = df.drop(['Child_is_Alive_Out_Outcome_Variable'], axis=1)\n",
    "feat_name.append(feat.columns)\n",
    "xgb_clf.get_booster().feature_names =['Region', 'Rural_Urban', 'Cluster_Number', 'Household_Number',\n",
    "        'Number_of_of_Children_Under_5', 'Age_at_1st_Birth', 'Birth_Order',\n",
    "        'Total_Number_of_of_Children_and_Current_Pregnancy',\n",
    "        'Highest_Education', 'Had_diarrhea_recently', 'CMC_date_of_interview',\n",
    "        'Source_of_Drinking_Water',\n",
    "        'Toilet_Fascilty_of_House_HoldRelated_to_Sanitation',\n",
    "        'Household_reads_Newspaper', 'v120', 'v121', 'Educational_Attainment',\n",
    "        'Mothers_age_at_birth', 'Sex_of_Child', 'Chids_age_at_Death_in_days',\n",
    "        'Chids_age_at_Death_in_Months_Imputed', 'Size_of_Child_at_birth',\n",
    "        'Birth_Weight_in_Kg', 'Wealth_Index', 'Terminated_pregnancy',\n",
    "        'Current_contraceptive_method', 'year']\n",
    "plot_importance(xgb_clf.get_booster());\n",
    "plt.savefig('fig/edhs_feature_importance.png',dpi=300)"
   ]
  },
  {
   "cell_type": "markdown",
   "id": "2ee19ade",
   "metadata": {},
   "source": [
    "## Save Trained Models\n",
    "\n",
    "You can use the Python pickle API to serialize your machine learning algorithms and save the serialized format to a file as:"
   ]
  },
  {
   "cell_type": "code",
   "execution_count": 20,
   "id": "a7361dc3",
   "metadata": {},
   "outputs": [],
   "source": [
    "# save model to file\n",
    "import pickle\n",
    "pickle.dump(xgb_clf, open(\"edhs_xgb_clf.pkl\", \"wb\"))"
   ]
  },
  {
   "cell_type": "markdown",
   "id": "adb0b1b5",
   "metadata": {},
   "source": [
    "Later you can load this file to deserialize your model and use it to make new predictions as:"
   ]
  },
  {
   "cell_type": "code",
   "execution_count": 21,
   "id": "df6ee4f5",
   "metadata": {},
   "outputs": [
    {
     "data": {
      "text/plain": [
       "array([1, 1, 1, 1, 1, 1, 1, 1, 1, 1, 1, 1, 1, 1, 1, 1, 1, 1, 1, 1, 1, 0,\n",
       "       1, 1, 1, 1, 1, 1, 1, 1, 1, 1, 1, 1, 1, 0, 1, 1, 1, 1, 1, 1, 1, 1,\n",
       "       1, 1, 1, 1, 1, 1, 1, 1, 1, 1, 0, 1, 1, 1, 1, 1, 1, 0, 1, 1, 1, 1,\n",
       "       1, 1, 1, 1, 1, 1, 1, 1, 1, 1, 1, 1, 1, 0, 1, 1, 1, 1, 1, 1, 1, 1,\n",
       "       1, 1, 1, 1, 1, 1, 1, 0, 1, 1, 1, 1, 0, 1, 1, 1, 1, 1, 1, 1, 1, 1,\n",
       "       1, 1, 1, 1, 1, 1, 1, 1, 1, 1, 1, 1, 1, 1, 1, 1, 1, 1, 1, 1, 1, 1,\n",
       "       0, 1, 1, 1, 1, 1, 1, 1, 1, 1, 0, 1, 1, 1, 1, 1, 1, 1, 1, 1, 1, 1,\n",
       "       1, 1, 1, 1, 1, 1, 1, 1, 1, 1, 1, 1, 1, 1, 1, 1, 1, 1, 1, 1, 0, 1,\n",
       "       1, 1, 1, 1, 1, 1, 1, 1, 1, 1, 1, 1, 1, 1, 1, 1, 1, 1, 1, 1, 1, 1,\n",
       "       1, 1, 1, 1, 1, 1, 0, 1, 1, 0, 1, 1, 0, 0, 1])"
      ]
     },
     "execution_count": 21,
     "metadata": {},
     "output_type": "execute_result"
    }
   ],
   "source": [
    "\n",
    "import pickle\n",
    "from xgboost import XGBClassifier\n",
    "XGBClassifier(n_estimators=100, max_depth=5, learning_rate=0.2,eval_metric='logloss',use_label_encoder=False);\n",
    "loaded_model = pickle.load(open(\"edhs_xgb_clf.pkl\", \"rb\"))\n",
    "loaded_model.predict(X_test)"
   ]
  },
  {
   "cell_type": "markdown",
   "id": "43d86982",
   "metadata": {},
   "source": [
    "<div class=\"individual\">\n",
    "<div class=\"box\">\n",
    "<p><strong>Activity <a href=\"machine-learning.html#xgboost\">5.5</a> Individual Home Taken Project on XGboost</strong></p>\n",
    "</div>\n",
    "<p><strong>Instruction</strong> </br>\n",
    "1.Implement the XGboost using only the important features of entire dataset with early stopping round of five(5) </br>  2. Plot Learning Curve and Roc Curve</br>3. Save your trained model in binary format </br> 4.Load your saved model and make prediction on new dataset</p>\n",
    "<p><strong>Time Allowed</strong> : 60 Minutes</p>\n",
    "</div>\n",
    "</div>\n",
    "</div>"
   ]
  },
  {
   "cell_type": "code",
   "execution_count": 26,
   "id": "17abcd57",
   "metadata": {},
   "outputs": [],
   "source": [
    "# 1 XGboost\n",
    "from xgboost import XGBClassifier\n",
    "from sklearn.model_selection import train_test_split \n",
    "from sklearn.metrics import accuracy_score\n",
    "from sklearn.preprocessing import MinMaxScaler\n",
    "\n",
    "df =  pd.read_csv('data/edhs.csv')\n",
    "df = df.drop_duplicates(subset=['Cluster_Number'])\n",
    "# create features vectors\n",
    "  \n",
    "features_names =['Region','Number_of_of_Children_Under_5', 'Total_Number_of_of_Children_and_Current_Pregnancy',\n",
    "        'Had_diarrhea_recently',\n",
    "        'Source_of_Drinking_Water','Mothers_age_at_birth',  'Chids_age_at_Death_in_days',\n",
    "        'Size_of_Child_at_birth']\n",
    "\n",
    "X =  df[features_names].values\n",
    "\n",
    "#Normalization\n",
    "scaler =  MinMaxScaler()\n",
    "# transform data\n",
    "X = scaler.fit_transform(X) # adding normalization to prevent overfitting\n",
    "# select the target variable\n",
    "y= df['Child_is_Alive_Out_Outcome_Variable'].values\n",
    "\n",
    "# Split the dataset into train and test\n",
    "X_train, X_test, y_train, y_test = train_test_split(X, y,\n",
    "test_size=0.33,random_state=42)\n",
    "\n",
    "# define the model\n",
    "xgb_model = XGBClassifier(n_estimators=100, max_depth=6,use_label_encoder=False,eval_metric='logloss',\n",
    "                        random_state=42)\n",
    "# define the datasets to evaluate each iteration\n",
    "evalset = [(X_train, y_train), (X_test,y_test)]\n",
    "# fit the model\n",
    "xgb_model.fit(X_train, y_train, eval_set=evalset, early_stopping_rounds=5,verbose=False);"
   ]
  },
  {
   "cell_type": "code",
   "execution_count": 28,
   "id": "aee636b6",
   "metadata": {},
   "outputs": [
    {
     "data": {
      "text/plain": [
       "40"
      ]
     },
     "execution_count": 28,
     "metadata": {},
     "output_type": "execute_result"
    }
   ],
   "source": [
    "xgb_model.best_ntree_limit"
   ]
  },
  {
   "cell_type": "code",
   "execution_count": 29,
   "id": "75962bd7",
   "metadata": {},
   "outputs": [
    {
     "data": {
      "image/png": "[encoded data removed]",
      "text/plain": [
       "<Figure size 720x504 with 1 Axes>"
      ]
     },
     "metadata": {},
     "output_type": "display_data"
    }
   ],
   "source": [
    "results = xgb_model.evals_result()\n",
    "plt.figure(figsize=(10,7))\n",
    "plt.plot(results[\"validation_0\"][\"logloss\"], label=\"Training loss\")\n",
    "plt.plot(results[\"validation_1\"][\"logloss\"], label=\"Validation loss\")\n",
    "plt.axvline(xgb_model.best_ntree_limit, color=\"gray\", label=\"Optimal tree number\")\n",
    "plt.xlabel(\"Number of trees\")\n",
    "plt.ylabel(\"Loss\")\n",
    "plt.savefig('Learning_curves_with_Early_Stopping.png',dpi=300)\n",
    "plt.legend();"
   ]
  },
  {
   "cell_type": "code",
   "execution_count": 30,
   "id": "7baf44d2",
   "metadata": {},
   "outputs": [],
   "source": [
    "# save model to file\n",
    "import pickle\n",
    "pickle.dump(xgb_model, open(\"edhs.pkl\", \"wb\"))"
   ]
  },
  {
   "cell_type": "code",
   "execution_count": 31,
   "id": "44e73948",
   "metadata": {},
   "outputs": [
    {
     "data": {
      "text/plain": [
       "array([1, 1, 1, 1, 1, 1, 1, 1, 1, 1, 1, 1, 1, 1, 1, 1, 1, 1, 1, 1, 1, 0,\n",
       "       1, 1, 1, 1, 1, 1, 1, 1, 1, 1, 1, 1, 1, 0, 1, 1, 1, 1, 1, 1, 1, 1,\n",
       "       1, 1, 1, 1, 1, 1, 1, 1, 1, 1, 0, 1, 1, 1, 1, 1, 1, 0, 1, 1, 1, 1,\n",
       "       1, 1, 1, 1, 1, 1, 1, 1, 1, 1, 1, 1, 1, 0, 1, 1, 1, 1, 1, 1, 1, 1,\n",
       "       1, 1, 1, 1, 1, 1, 1, 0, 1, 1, 1, 1, 0, 1, 1, 1, 1, 1, 1, 1, 1, 1,\n",
       "       1, 1, 1, 1, 1, 1, 1, 1, 1, 1, 1, 1, 1, 1, 1, 1, 1, 1, 1, 1, 1, 1,\n",
       "       0, 1, 1, 1, 1, 1, 1, 1, 1, 1, 0, 1, 1, 1, 1, 1, 1, 1, 1, 1, 1, 1,\n",
       "       1, 1, 1, 1, 1, 1, 1, 1, 1, 1, 1, 1, 1, 1, 1, 1, 1, 1, 1, 1, 0, 1,\n",
       "       1, 1, 1, 1, 1, 1, 1, 1, 1, 1, 1, 1, 1, 1, 1, 1, 1, 1, 1, 1, 1, 1,\n",
       "       1, 1, 1, 1, 1, 1, 0, 1, 1, 0, 1, 1, 0, 0, 1])"
      ]
     },
     "execution_count": 31,
     "metadata": {},
     "output_type": "execute_result"
    }
   ],
   "source": [
    "import pickle\n",
    "from xgboost import XGBClassifier\n",
    "XGBClassifier(n_estimators=100, max_depth=5, learning_rate=0.2,eval_metric='logloss',use_label_encoder=False);\n",
    "loaded = pickle.load(open(\"edhs.pkl\", \"rb\"))\n",
    "loaded.predict(X_test)"
   ]
  },
  {
   "cell_type": "code",
   "execution_count": null,
   "id": "53fa9767",
   "metadata": {},
   "outputs": [],
   "source": []
  }
 ],
 "metadata": {
  "kernelspec": {
   "display_name": "Python 3 (ipykernel)",
   "language": "python",
   "name": "python3"
  },
  "language_info": {
   "codemirror_mode": {
    "name": "ipython",
    "version": 3
   },
   "file_extension": ".py",
   "mimetype": "text/x-python",
   "name": "python",
   "nbconvert_exporter": "python",
   "pygments_lexer": "ipython3",
   "version": "3.9.10"
  }
 },
 "nbformat": 4,
 "nbformat_minor": 5
}
